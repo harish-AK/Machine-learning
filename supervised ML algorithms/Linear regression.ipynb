{
 "cells": [
  {
   "cell_type": "code",
   "execution_count": 2,
   "id": "7479eaa2",
   "metadata": {},
   "outputs": [],
   "source": [
    "import pandas as pd\n",
    "import numpy as np\n",
    "import matplotlib.pyplot as plt\n",
    "import seaborn as sns\n",
    "%matplotlib inline"
   ]
  },
  {
   "cell_type": "code",
   "execution_count": 10,
   "id": "04b585ed",
   "metadata": {},
   "outputs": [
    {
     "name": "stdout",
     "output_type": "stream",
     "text": [
      "[12. 14. 16.]\n"
     ]
    }
   ],
   "source": [
    "# simple example\n",
    "import numpy as np\n",
    "from sklearn.linear_model import LinearRegression\n",
    "\n",
    "# Sample input data\n",
    "X = np.array([[1], [2], [3], [4], [5]])\n",
    "y = np.array([2, 4, 6, 8, 10])\n",
    "\n",
    "# Create a Linear Regression model\n",
    "model = LinearRegression()\n",
    "\n",
    "# Fit the model to the data\n",
    "model.fit(X, y)\n",
    "\n",
    "# Predict using the trained model\n",
    "X_new = np.array([[6], [7], [8]])\n",
    "y_pred = model.predict(X_new)\n",
    "\n",
    "print(y_pred)\n"
   ]
  },
  {
   "cell_type": "code",
   "execution_count": 13,
   "id": "7e28401e",
   "metadata": {},
   "outputs": [
    {
     "name": "stdout",
     "output_type": "stream",
     "text": [
      "[120. 140. 160.]\n"
     ]
    },
    {
     "name": "stderr",
     "output_type": "stream",
     "text": [
      "C:\\ProgramData\\Anaconda3\\lib\\site-packages\\sklearn\\utils\\validation.py:964: FutureWarning: Arrays of bytes/strings is being converted to decimal numbers if dtype='numeric'. This behavior is deprecated in 0.24 and will be removed in 1.1 (renaming of 0.26). Please convert your data to numeric values explicitly instead.\n",
      "  X = check_array(\n",
      "C:\\ProgramData\\Anaconda3\\lib\\site-packages\\sklearn\\base.py:566: FutureWarning: Arrays of bytes/strings is being converted to decimal numbers if dtype='numeric'. This behavior is deprecated in 0.24 and will be removed in 1.1 (renaming of 0.26). Please convert your data to numeric values explicitly instead.\n",
      "  X = check_array(X, **check_params)\n"
     ]
    }
   ],
   "source": [
    "import numpy as np\n",
    "from sklearn.compose import ColumnTransformer\n",
    "from sklearn.preprocessing import OneHotEncoder\n",
    "from sklearn.linear_model import LinearRegression\n",
    "\n",
    "# Sample input data with a categorical column\n",
    "X = np.array([[1, 'A'], [2, 'B'], [3, 'A'], [4, 'C'], [5, 'B']])\n",
    "y = np.array([20, 40, 60, 80, 100])\n",
    "\n",
    "# Convert categorical column to numeric values\n",
    "X[:, 1] = np.unique(X[:, 1], return_inverse=True)[1]\n",
    "# X[:,1] selects column of array X\n",
    "\n",
    "#np.unique(X[:, 1], return_inverse=True):\n",
    "\n",
    "#This function call returns two arrays. \n",
    "#The first array contains the unique values from column 1 of X, \n",
    "#and the second array contains the indices that map each element in column 1 to its corresponding unique value.\n",
    "#By setting return_inverse=True, \n",
    "#we instruct the function to return the inverse mapping, which gives us the indices that represent each element in column 1.\n",
    "\n",
    "#[1]: This indexing operation selects the second array returned by np.unique(),\n",
    "\n",
    "#which contains the indices representing the categorical values in column 1.\n",
    "# Create a ColumnTransformer to one-hot encode the categorical column\n",
    "\n",
    "# X[:, 1] = ...: This assigns the values from the second array (the indices) to column 1 of X,\n",
    "\n",
    "#effectively replacing the categorical values with their corresponding numeric representations.\n",
    "# ct = ColumnTransformer([('encoder', OneHotEncoder(), [1])], remainder='passthrough')\n",
    "\n",
    "# X_encoded = ct.fit_transform(X)\n",
    "\n",
    "# Create a Linear Regression model\n",
    "model = LinearRegression()\n",
    "\n",
    "# Fit the model to the encoded data\n",
    "model.fit(X_encoded, y)\n",
    "\n",
    "# Convert new input data categorical column to numeric values\n",
    "X_new = np.array([[6, 'A'], [7, 'B'], [8, 'C']])\n",
    "X_new[:, 1] = np.unique(X_new[:, 1], return_inverse=True)[1]\n",
    "\n",
    "# Predict using the trained model\n",
    "X_new_encoded = ct.transform(X_new)\n",
    "y_pred = model.predict(X_new_encoded)\n",
    "\n",
    "print(y_pred)"
   ]
  },
  {
   "cell_type": "code",
   "execution_count": 14,
   "id": "f81b5855",
   "metadata": {},
   "outputs": [],
   "source": [
    "import numpy as np\n",
    "\n",
    "# Sample input data\n",
    "X = np.array([[1, 'A'], [2, 'B'], [3, 'A'], [4, 'C'], [5, 'B']])\n",
    "y = np.array([2, 4, 6, 8, 10])\n",
    "\n",
    "# Convert categorical column to numeric values\n",
    "X[:, 1] = np.unique(X[:, 1], return_inverse=True)[1]\n",
    "\n",
    "# Combine X and y horizontally\n",
    "data = np.hstack((X, y.reshape(-1, 1)))\n",
    "\n",
    "# Save data to a CSV file\n",
    "np.savetxt('data.csv', data, delimiter=',', fmt='%s')"
   ]
  },
  {
   "cell_type": "code",
   "execution_count": 17,
   "id": "2df7661e",
   "metadata": {},
   "outputs": [],
   "source": [
    "a=pd.read_csv('data.csv')"
   ]
  },
  {
   "cell_type": "code",
   "execution_count": 18,
   "id": "5cee6de4",
   "metadata": {},
   "outputs": [
    {
     "data": {
      "text/html": [
       "<div>\n",
       "<style scoped>\n",
       "    .dataframe tbody tr th:only-of-type {\n",
       "        vertical-align: middle;\n",
       "    }\n",
       "\n",
       "    .dataframe tbody tr th {\n",
       "        vertical-align: top;\n",
       "    }\n",
       "\n",
       "    .dataframe thead th {\n",
       "        text-align: right;\n",
       "    }\n",
       "</style>\n",
       "<table border=\"1\" class=\"dataframe\">\n",
       "  <thead>\n",
       "    <tr style=\"text-align: right;\">\n",
       "      <th></th>\n",
       "      <th>1</th>\n",
       "      <th>0</th>\n",
       "      <th>2</th>\n",
       "    </tr>\n",
       "  </thead>\n",
       "  <tbody>\n",
       "    <tr>\n",
       "      <th>0</th>\n",
       "      <td>2</td>\n",
       "      <td>1</td>\n",
       "      <td>4</td>\n",
       "    </tr>\n",
       "    <tr>\n",
       "      <th>1</th>\n",
       "      <td>3</td>\n",
       "      <td>0</td>\n",
       "      <td>6</td>\n",
       "    </tr>\n",
       "    <tr>\n",
       "      <th>2</th>\n",
       "      <td>4</td>\n",
       "      <td>2</td>\n",
       "      <td>8</td>\n",
       "    </tr>\n",
       "    <tr>\n",
       "      <th>3</th>\n",
       "      <td>5</td>\n",
       "      <td>1</td>\n",
       "      <td>10</td>\n",
       "    </tr>\n",
       "  </tbody>\n",
       "</table>\n",
       "</div>"
      ],
      "text/plain": [
       "   1  0   2\n",
       "0  2  1   4\n",
       "1  3  0   6\n",
       "2  4  2   8\n",
       "3  5  1  10"
      ]
     },
     "execution_count": 18,
     "metadata": {},
     "output_type": "execute_result"
    }
   ],
   "source": [
    "a"
   ]
  },
  {
   "cell_type": "code",
   "execution_count": 44,
   "id": "591edc53",
   "metadata": {},
   "outputs": [
    {
     "name": "stdout",
     "output_type": "stream",
     "text": [
      "[0 1 2 1]\n",
      "[0 1 3 2 4]\n",
      "[0 1 4 2 3]\n"
     ]
    }
   ],
   "source": [
    "from sklearn.preprocessing import LabelEncoder\n",
    "\n",
    "a = ['a', 'b', 'c', 'b']\n",
    "b = ['a', 'b', 'c', 'bb','e']\n",
    "c = ['a', 'b', 'eee', 'bb','e']\n",
    "\n",
    "\n",
    "# Create an instance of LabelEncoder\n",
    "label_encoder = LabelEncoder()\n",
    "\n",
    "# Fit and transform the list 'a'\n",
    "a_encoded = label_encoder.fit_transform(a)\n",
    "\n",
    "\n",
    "print(a_encoded)\n",
    "b_encoded = label_encoder.fit_transform(b)\n",
    "print(b_encoded)\n",
    "\n",
    "c_encoded = label_encoder.fit_transform(c) # size bigger means value will be valued last\n",
    "print(c_encoded)\n",
    "\n"
   ]
  },
  {
   "cell_type": "code",
   "execution_count": 41,
   "id": "aa8c3a69",
   "metadata": {},
   "outputs": [
    {
     "name": "stdout",
     "output_type": "stream",
     "text": [
      "[0 1 3 2 4]\n"
     ]
    }
   ],
   "source": []
  },
  {
   "cell_type": "code",
   "execution_count": null,
   "id": "8f5c0a04",
   "metadata": {},
   "outputs": [],
   "source": []
  }
 ],
 "metadata": {
  "kernelspec": {
   "display_name": "Python 3 (ipykernel)",
   "language": "python",
   "name": "python3"
  },
  "language_info": {
   "codemirror_mode": {
    "name": "ipython",
    "version": 3
   },
   "file_extension": ".py",
   "mimetype": "text/x-python",
   "name": "python",
   "nbconvert_exporter": "python",
   "pygments_lexer": "ipython3",
   "version": "3.9.13"
  }
 },
 "nbformat": 4,
 "nbformat_minor": 5
}
